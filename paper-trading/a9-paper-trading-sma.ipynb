{
 "cells": [
  {
   "cell_type": "markdown",
   "id": "6f2fe1cc",
   "metadata": {},
   "source": [
    "Before you turn this problem in, make sure everything runs as expected. First, **restart the kernel** (in the menubar, select Kernel $\\rightarrow$ Restart) and then **run all cells** (in the menubar, select Cell $\\rightarrow$ Run All).\n",
    "\n",
    "Make sure you fill in any place that says `YOUR CODE HERE` or \"YOUR ANSWER HERE\", as well as your name and collaborators below:"
   ]
  },
  {
   "cell_type": "code",
   "execution_count": null,
   "id": "a89fcfbf",
   "metadata": {},
   "outputs": [],
   "source": [
    "NAME = \"\"\n",
    "COLLABORATORS = \"\""
   ]
  },
  {
   "cell_type": "markdown",
   "id": "309d17c3",
   "metadata": {},
   "source": [
    "---"
   ]
  },
  {
   "cell_type": "markdown",
   "id": "ef4dfe01-a6a4-4a5f-9672-f15a1508642d",
   "metadata": {},
   "source": [
    "# Assignment 9: Paper Trading - SMA Algorithm"
   ]
  },
  {
   "cell_type": "markdown",
   "id": "02aa769c-739f-43c8-b89a-5aa4a27ea6bc",
   "metadata": {},
   "source": [
    "## 0 Introduction\n",
    "In this assignment, we demonstrate the SMA algorithm's paper trading step. We define the SMA Algorithm similarly to the previous assignment. Still, we restructure the code slightly to accommodate the paper trading step when the real-time price is used instead of the historical price.\n",
    "\n",
    "Often, the live trading version of the algorithm code is more similar to the paper trading version than the backtesting one. Differences in implementation from historical prices to real-time prices lead to performance mismatches. Deploying the algorithm to a live trade system also poses some challenges and hurdles.\n",
    "\n",
    "One of the needs in Algorithmic Trading is to design a framework such that the differences between backtesting and live trade code are minimal, or even better, no differences. It would increase the productivity of Algorithmic Traders by a significant amount if they could only have to specify (or code) the algorithm once, and it can be used in both backtesting and live trade. Nevertheless, it would be a whole different topic. This assignment wants to show you how paper trading would work in the process of **Trading Algorithm Development**.\n",
    "\n",
    "First, we import some of the required packages:"
   ]
  },
  {
   "cell_type": "code",
   "execution_count": null,
   "id": "317e15c8",
   "metadata": {
    "executionInfo": {
     "elapsed": 652,
     "status": "ok",
     "timestamp": 1709089777649,
     "user": {
      "displayName": "Xuân Ngọc Lê Vũ",
      "userId": "17595463002209508429"
     },
     "user_tz": -420
    },
    "id": "317e15c8"
   },
   "outputs": [],
   "source": [
    "import json\n",
    "import logging\n",
    "import time\n",
    "\n",
    "import kafka\n",
    "import pytz\n",
    "\n",
    "import matplotlib.dates as mdates\n",
    "import matplotlib.pyplot as plt\n",
    "import numpy as np\n",
    "import pandas as pd\n",
    "\n",
    "from datetime import datetime\n",
    "from logging.handlers import RotatingFileHandler\n",
    "from typing import List, Tuple\n",
    "from multiprocessing import Process, Queue\n",
    "\n",
    "\n",
    "from kafka import KafkaConsumer, KafkaAdminClient, TopicPartition\n",
    "\n",
    "TIMEZONE = pytz.timezone('Asia/Ho_Chi_Minh')"
   ]
  },
  {
   "cell_type": "markdown",
   "id": "a78fe2f8",
   "metadata": {
    "id": "a78fe2f8"
   },
   "source": [
    "## 1 Kafka Configuration\n",
    "We will use `Kafka` as a [message broker](https://en.wikipedia.org/wiki/Message_broker) to deliver the real-time market price to our `SMA Algorithm`. To begin, we load the configuration of `Kafka` broker."
   ]
  },
  {
   "cell_type": "code",
   "execution_count": null,
   "id": "ML-JoxE7AelV",
   "metadata": {
    "executionInfo": {
     "elapsed": 6,
     "status": "ok",
     "timestamp": 1709089777650,
     "user": {
      "displayName": "Xuân Ngọc Lê Vũ",
      "userId": "17595463002209508429"
     },
     "user_tz": -420
    },
    "id": "ML-JoxE7AelV"
   },
   "outputs": [],
   "source": [
    "# Load the Kafka configuration\n",
    "with open(\"kafka-config.json\", 'r') as f:\n",
    "    config = json.load(f)\n",
    "\n",
    "# Print the configuration\n",
    "print(config)"
   ]
  },
  {
   "cell_type": "markdown",
   "id": "891c5a53-1749-49e1-b25b-667decc5e292",
   "metadata": {},
   "source": [
    "### 1.1 Connect to Kafka\n",
    "... and check the availability. We can connect to the `KafkaAdminClient` to test the connection and also get the topics we want to subscribe the message."
   ]
  },
  {
   "cell_type": "code",
   "execution_count": null,
   "id": "cad36337",
   "metadata": {
    "colab": {
     "base_uri": "https://localhost:8080/"
    },
    "executionInfo": {
     "elapsed": 902,
     "status": "ok",
     "timestamp": 1709089778547,
     "user": {
      "displayName": "Xuân Ngọc Lê Vũ",
      "userId": "17595463002209508429"
     },
     "user_tz": -420
    },
    "id": "cad36337",
    "outputId": "81e65cd1-2832-4103-ca55-ee0142611ef1"
   },
   "outputs": [],
   "source": [
    "# First, we connect to Kafka as a KafkaAdminClient\n",
    "admin_client = KafkaAdminClient(**config)\n",
    "\n",
    "# Then we get the topics\n",
    "topics = admin_client.list_topics()\n",
    "\n",
    "# Pick out the random five topics:\n",
    "topics[:5]"
   ]
  },
  {
   "cell_type": "markdown",
   "id": "79b32e31-ad5b-4636-9c3f-90e79bef4672",
   "metadata": {},
   "source": [
    "Suppose we would like to find the correct topic name of the instrument `VN30F1M` from the list of topics, we can do:"
   ]
  },
  {
   "cell_type": "code",
   "execution_count": null,
   "id": "e15c2cf8-81d2-40d6-ae03-802a80827211",
   "metadata": {},
   "outputs": [],
   "source": [
    "# Select the correct topic name of the instrument VN30F1M only:\n",
    "list(filter(lambda x: 'VN30F1M' in x, topics))"
   ]
  },
  {
   "cell_type": "markdown",
   "id": "415f8f76-b7eb-4187-b341-6c5c7bbffb2a",
   "metadata": {},
   "source": [
    "## 1.2 Connect to the Message Channel of `VN30F1M` through Kafka"
   ]
  },
  {
   "cell_type": "code",
   "execution_count": null,
   "id": "jIV9PDSfK9y8",
   "metadata": {
    "id": "jIV9PDSfK9y8"
   },
   "outputs": [],
   "source": [
    "# NOTE: Change the ticker symbol to the appropriate future contract name based on time.\n",
    "# For example, if today is 25.02.2025 the VN30F1M ticker symbol is VN30F2403.\n",
    "\n",
    "# The topic name is just a convention in this system; often, 'HNXDS' is the code of Derivative Exchange, and `VN30F1M` is the ticker symbol.\n",
    "F1M_TOPIC = 'HNXDS.VN30F1M'"
   ]
  },
  {
   "cell_type": "markdown",
   "id": "cd17a362-f086-4058-bc32-031eb029d215",
   "metadata": {},
   "source": [
    "Then, we define the consumer to consume messages from the message queue."
   ]
  },
  {
   "cell_type": "code",
   "execution_count": null,
   "id": "60cfa3bd-91d7-43a2-ba71-0d57dbae4bfa",
   "metadata": {},
   "outputs": [],
   "source": [
    "# Define an example function to consume messages from Kafka\n",
    "def consume_message(\n",
    "    config: dict,\n",
    "    topic: str\n",
    "):\n",
    "    \"\"\"Consumes messages from Kafka.\n",
    "\n",
    "    Run for one minute, then stop. Demonstration only.\n",
    "\n",
    "    Args:\n",
    "        config (dict): The Kafka configuration.\n",
    "        topic (str): The topic to stream the price message.\n",
    "    \"\"\"\n",
    "    # Create the Kafka consumer\n",
    "    consumer = KafkaConsumer(\n",
    "        topic,  # specify topic\n",
    "        **config,\n",
    "        group_id=\"algotrade\",\n",
    "        auto_offset_reset=\"earliest\",\n",
    "        value_deserializer=lambda v: json.loads(v.decode('utf-8')),  # Serialize the message from Kafka\n",
    "    )\n",
    "\n",
    "    print(\"Consumer started, waiting for messages...\")\n",
    "    # Consume the message\n",
    "\n",
    "    i = 0\n",
    "    for message in consumer:\n",
    "        # The consumer information\n",
    "        print(f\"Topic: {message.topic}\")\n",
    "        print(f\"Partition: {message.partition}\")\n",
    "        print(f\"Offset: {message.offset}\")\n",
    "\n",
    "        # The message value\n",
    "        # print(f\"Value: {message.value}\")\n",
    "        print('latest_matched_price', message.value['latest_matched_price']['value'])\n",
    "        print('latest_matched_quantity', message.value['latest_matched_quantity']['value'])\n",
    "        print(\"---\")\n",
    "\n",
    "        # Sleep for one second to not overload the output data of Jupyter Notebook only\n",
    "        # In running on other platforms, this code can be removed.\n",
    "        time.sleep(1)\n",
    "\n",
    "        # Run for one minute then stop\n",
    "        i += 1\n",
    "        if i >= 60:\n",
    "            return"
   ]
  },
  {
   "cell_type": "markdown",
   "id": "30058cdc-293d-46ce-a36d-b370bbbb8551",
   "metadata": {},
   "source": [
    "In the next step, we can use this consumer structure to stream price information from `Kafka` to paper trade our algorithm. We need to implement the paper trading version of the algorithm and then add a mechanism to get the real-time price. The consumer structure of `Kafka` can help us with that. We will lay out the details in the next section."
   ]
  },
  {
   "cell_type": "markdown",
   "id": "49811945",
   "metadata": {
    "id": "49811945"
   },
   "source": [
    "## 2 The SMA Algorithm class\n",
    "To set up the SMA algorithm for paper trading conveniently, we need to restructure the code into a class. A class helps with grouping required variables of the SMA Algorithm under the same namespace. Doing so helps us conveniently access the needed resources. It also allows the code to be more lean. We can also easily define a `callback` function later to consume the price message from the message broker."
   ]
  },
  {
   "cell_type": "code",
   "execution_count": null,
   "id": "17a9b13a-6a82-49de-94e1-990e42701a79",
   "metadata": {},
   "outputs": [],
   "source": [
    "class SMA:\n",
    "    \"\"\"Defines the SMA Trading Algorithm.\n",
    "\n",
    "    Attributes:\n",
    "        sma_window_length (int): The SMA window length of the trading algorithm.\n",
    "        take_profit_thres (int): Take profit threshold.\n",
    "        cut_loss_thres (int): Cut loss threshold.\n",
    "        nav_value (float): The initial nav value. Updating along the way.\n",
    "    \"\"\"\n",
    "    def __init__(\n",
    "        self,\n",
    "        sma_window_length: int,\n",
    "        take_profit_thres: float,\n",
    "        cut_loss_thres: float,\n",
    "        nav_value: float = 1000,\n",
    "        logger = None,\n",
    "        data_queue: Queue = None\n",
    "    ):\n",
    "        self.sma_window_length = sma_window_length\n",
    "        self.take_profit_thres = take_profit_thres\n",
    "        self.cut_loss_thres = cut_loss_thres\n",
    "        self.nav_value = nav_value\n",
    "        self.logger = logger\n",
    "\n",
    "        if not self.logger:\n",
    "            self.logger = logging.getLogger(__name__)\n",
    "            \n",
    "        # Date list to store the date data\n",
    "        self.date_list = []\n",
    "        # The price line\n",
    "        self.price_line = []\n",
    "        # The sma_line\n",
    "        self.sma_line = []\n",
    "        # The holdings to store the current positions of the algorithm\n",
    "        self.holdings = []\n",
    "        \n",
    "        # NAV history object to store the evolution of the asset\n",
    "        self.nav_history = []\n",
    "        # An accounting queue object to communicate the asset\n",
    "        self.data_queue = data_queue\n",
    "        # latest_price timestamp to see if the price information is actually late\n",
    "        self.latest_price_timestamp = None\n",
    "    \n",
    "    # Open position when there is a trading signal, and add position to holdings.\n",
    "    # Entry point is the price point at which a position is open.\n",
    "    def open_position(\n",
    "        self,\n",
    "        position_type: str,\n",
    "        entry_point: float,\n",
    "    ):\n",
    "        \"\"\"Opens position and add to the holding.\n",
    "    \n",
    "        Args:\n",
    "            position_type (str): The position type. The algorithm has only two positions: `LONG` or `SHORT`.\n",
    "            entry_point (float): The entry point of the position. The entry point is the price point at which the position is opened.\n",
    "        \"\"\"\n",
    "        # Add position into the holdings. Position entry point:\n",
    "        position = [position_type, entry_point]\n",
    "        self.holdings.append(position)\n",
    "\n",
    "    # close position when there is trading signal. Remove the position from holdings.\n",
    "    def close_positions(\n",
    "        self,\n",
    "        cur_price: float\n",
    "    ) -> Tuple[float, float]:\n",
    "        \"\"\"Closes the position and remove from the holding. Also, performs some accounting tasks such as calculating realized and unrealized profit and loss (PnL).\n",
    "        \n",
    "        Args:\n",
    "            cur_price (float): Current price point.\n",
    "    \n",
    "        Returns:\n",
    "            The total realized and unrealized profit and loss.\n",
    "        \"\"\"\n",
    "    \n",
    "        total_realized_pnl = 0\n",
    "        total_unrealized_pnl = 0\n",
    "    \n",
    "        for position_type, entry_point in self.holdings[:]:\n",
    "            self.logger.info(f'{position_type}, {entry_point}')\n",
    "        # Loop through the opened position \n",
    "        # and check if the position has reached the take_profit_thres or cut_loss_thres\n",
    "        # then close (remove) the position from the holdings.\n",
    "            if position_type == 'LONG':\n",
    "                unrealized_pnl = (cur_price - entry_point)\n",
    "    \n",
    "            if position_type == 'SHORT':\n",
    "                unrealized_pnl = -(cur_price - entry_point)\n",
    "            \n",
    "            if (\n",
    "                unrealized_pnl >= self.take_profit_thres or\n",
    "                unrealized_pnl < self.cut_loss_thres\n",
    "            ):\n",
    "                self.logger.info(f'{unrealized_pnl}, {self.take_profit_thres}, {self.cut_loss_thres}')\n",
    "                # Remove the position from the holdings. Position exit point:\n",
    "                self.holdings.remove([position_type, entry_point])\n",
    "    \n",
    "                total_realized_pnl += unrealized_pnl\n",
    "            else:\n",
    "                total_unrealized_pnl += unrealized_pnl\n",
    "        \n",
    "        return total_realized_pnl, total_unrealized_pnl\n",
    "                \n",
    "    def calculate_sma(\n",
    "        self,\n",
    "        cur_price: float\n",
    "    ) -> float:\n",
    "        \"\"\"Calculates the SMA with the current price.\n",
    "        \n",
    "        Args:\n",
    "            cur_price (float): The current price.\n",
    "\n",
    "        Returns:\n",
    "            The current SMA value.\n",
    "        \"\"\"\n",
    "        if len(self.price_line) < self.sma_window_length:\n",
    "            return\n",
    "\n",
    "        cur_sma = round(np.average(self.price_line[-self.sma_window_length:]), 2)\n",
    "        \n",
    "        return cur_sma\n",
    "    \n",
    "    def run(self, message: dict):\n",
    "        \"\"\"Runs the SMA algorithm with the current price stream from the message broker.\n",
    "        This can also be used as a callback in Message Broker (e.g. Kafka, Redis) Pub/Sub APIS.\n",
    "\n",
    "        In this example, we use Kafka as a message broker.\n",
    "\n",
    "        Args:\n",
    "            redis_message (dict): The redis message contains the current tick data.\n",
    "        \"\"\"\n",
    "        cur_price = message.value['latest_matched_price']['value']\n",
    "\n",
    "        # Skip if the current price is None\n",
    "        if cur_price is None:\n",
    "            return\n",
    "\n",
    "        # Check if the latest price is actually the latest based on the timestamp\n",
    "        # Since messages can be duplicated information\n",
    "        latest_price_timestamp = message.value['latest_matched_price']['last_updated']\n",
    "        if not self.latest_price_timestamp:\n",
    "            self.latest_price_timestamp = latest_price_timestamp\n",
    "        else:\n",
    "            if latest_price_timestamp <= self.latest_price_timestamp:\n",
    "                return\n",
    "            else:\n",
    "                self.latest_price_timestamp = latest_price_timestamp\n",
    "\n",
    "        now = datetime.fromtimestamp(\n",
    "            message.value['latest_matched_price']['last_updated']\n",
    "        ).astimezone(TIMEZONE)\n",
    "\n",
    "        self.date_list.append(now)\n",
    "        self.price_line.append(cur_price)\n",
    "        # Calculate the SMA\n",
    "        cur_sma = self.calculate_sma(cur_price)\n",
    "\n",
    "        if not cur_sma:\n",
    "            self.logger.info(f'{now} Calculating SMA({self.sma_window_length})...')\n",
    "        \n",
    "        self.sma_line.append(cur_sma)\n",
    "\n",
    "        # If required information is not provided, skip for now\n",
    "        if len(self.price_line) < 2 or len(self.sma_line) < 2 or cur_sma is None:\n",
    "            return\n",
    "\n",
    "        # Got the required information\n",
    "        prev_price = self.price_line[-2]\n",
    "        prev_sma = self.sma_line[-2]\n",
    "\n",
    "        # If there is not required information, skip:\n",
    "        if not prev_sma:\n",
    "            return\n",
    "\n",
    "        # Printing for debugging\n",
    "        self.logger.info(\n",
    "            f'{now} price(t-1)={prev_price}; '\n",
    "            f'sma(t-1)={prev_sma}; '\n",
    "            f'price(t)={cur_price}; '\n",
    "            f'sma(t)={cur_sma}'\n",
    "        )        \n",
    "\n",
    "        # Close positions\n",
    "        # Determine if any positions need to be closed\n",
    "        total_realized_pnl, total_unrealized_pnl = self.close_positions(cur_price)\n",
    "        # Update the asset_value\n",
    "        self.nav_value = self.nav_value + total_realized_pnl\n",
    "        nav_history = self.nav_value\n",
    "        \n",
    "        if total_realized_pnl == 0:\n",
    "            nav_history = self.nav_value + total_unrealized_pnl\n",
    "\n",
    "        shared_data = {\n",
    "            'date': now,\n",
    "            'price': cur_price,\n",
    "            'sma': cur_sma,\n",
    "            'nav': nav_history\n",
    "        }\n",
    "        \n",
    "        self.nav_history.append(nav_history)\n",
    "        # Put accounting_value in accounting_queue to share if queue is available\n",
    "        if self.data_queue:\n",
    "            self.data_queue.put(shared_data)\n",
    "        \n",
    "        # NOTE: open one contract only\n",
    "        if self.holdings:\n",
    "            self.logger.info(f'{now} UNREALIZED PNL: {round(total_unrealized_pnl, 2)}')\n",
    "            return\n",
    "\n",
    "        # Open a LONG position when there are signals and add to the holdings\n",
    "        if prev_price < prev_sma and cur_price >= cur_sma:\n",
    "            self.open_position('LONG', cur_price)\n",
    "\n",
    "        # Open a SHORT position when there are signals and add to the holdings\n",
    "        if prev_price > prev_sma and cur_price <= cur_sma:\n",
    "            self.open_position('SHORT', cur_price)"
   ]
  },
  {
   "cell_type": "markdown",
   "id": "ea79c65f-7684-42b2-a022-b96e82e33741",
   "metadata": {},
   "source": [
    "### 2.1 Create The SMA object and a Consumer"
   ]
  },
  {
   "cell_type": "markdown",
   "id": "ccb7f487-5aca-4b25-9996-0a3c757b16e5",
   "metadata": {},
   "source": [
    "We can create the consumer as follows:"
   ]
  },
  {
   "cell_type": "code",
   "execution_count": null,
   "id": "IIaDNjhvqPpK",
   "metadata": {
    "id": "IIaDNjhvqPpK"
   },
   "outputs": [],
   "source": [
    "# Define the consumer\n",
    "# Uncomment this section with the correct group_id to consume the message\n",
    "consumer = KafkaConsumer(\n",
    "    F1M_TOPIC,\n",
    "    **config,\n",
    "    # ***IMPORTANT NOTE***\n",
    "    # You should change the group_id into your student id (e.g., \"21125157\" (str)) to correctly consume the message.\n",
    "    # Each student will have a different stream from which to consume messages to not interfere with each other.\n",
    "    group_id=\"paper-trading-01\",\n",
    "    auto_offset_reset=\"latest\",\n",
    "    value_deserializer=lambda v: json.loads(v.decode('utf-8')),  # Serialize the message from Kafka\n",
    ")\n",
    "\n",
    "tp = TopicPartition(topic='HNXDS.VN30F1M', partition=0)\n",
    "consumer.assign([tp])\n",
    "consumer.seek_to_beginning()"
   ]
  },
  {
   "cell_type": "markdown",
   "id": "5b5c3565-9fe9-4dcd-a86b-7d5cffcb0aab",
   "metadata": {},
   "source": [
    "In Kafka, there is a way to \"playback\" the message from the stream to test your algorithm in from the previous message. You can define and config your Consumer follow the code snippet below. We use the concept of offset in the partition of Kafka to enable that. You can read more about it [here](https://www.redpanda.com/guides/kafka-architecture-kafka-offset)."
   ]
  },
  {
   "cell_type": "code",
   "execution_count": null,
   "id": "1b595ca4-afce-4137-8696-cbbabd3d8170",
   "metadata": {},
   "outputs": [],
   "source": [
    "# Define the consumer a little bit different than the above\n",
    "# Uncomment to use the code. Remember, we can define the consumer in only one way.\n",
    "# If you choose the one, please comment or remove the other code for defining the consumer.\n",
    "\n",
    "# consumer = KafkaConsumer(\n",
    "#     **config,\n",
    "#     # ***IMPORTANT NOTE***\n",
    "#     # You should change the group_id into your student id (e.g., \"21125157\" (str)) to correctly consume the message.\n",
    "#     # Each student will have a different stream from which to consume messages to not interfere with each other.\n",
    "#     group_id=\"paper-trading-01\",\n",
    "#     value_deserializer=lambda v: json.loads(v.decode('utf-8')),  # Serialize the message from Kafka\n",
    "# )\n",
    "\n",
    "# # Define the TopicPartition for the consumer\n",
    "# tp = TopicPartition(topic=F1M_TOPIC, partition=0)\n",
    "# # Assign the TopicPartition to the consumer.\n",
    "# consumer.assign([tp])\n",
    "# # Reset the offset to the beginning of the stream\n",
    "# consumer.seek_to_beginning()"
   ]
  },
  {
   "cell_type": "markdown",
   "id": "f0ce2589-f3e2-4edc-bcee-179d89e81873",
   "metadata": {},
   "source": [
    "After define the consumer, we create a SMA object to store the SMA algorithm"
   ]
  },
  {
   "cell_type": "code",
   "execution_count": null,
   "id": "28344b8c-de20-40f4-b4e0-071ad207b0c4",
   "metadata": {},
   "outputs": [],
   "source": [
    "file_handler = RotatingFileHandler('sma.log', maxBytes=1024*100, backupCount=1)\n",
    "logger = logging.getLogger(__name__)\n",
    "logging.basicConfig(level=logging.INFO, handlers=[file_handler])\n",
    "\n",
    "q = Queue()\n",
    "\n",
    "sma = SMA(\n",
    "    sma_window_length=5,\n",
    "    take_profit_thres=8.8,\n",
    "    cut_loss_thres=-5.0,\n",
    "    logger=logger,\n",
    "    data_queue=q\n",
    ")"
   ]
  },
  {
   "cell_type": "markdown",
   "id": "b4e9bdfd-73d4-4cd9-bcd8-1f702184cb87",
   "metadata": {},
   "source": [
    "Then, we create a function to run the SMA algorithm with the Kafka Consumer. The function will help us run the procedure in thread to help with the management (start-stop).\n"
   ]
  },
  {
   "cell_type": "code",
   "execution_count": null,
   "id": "19115cce-2cfb-46fb-ac73-19e423ef9552",
   "metadata": {},
   "outputs": [],
   "source": [
    "def run_sma_with_kafka(\n",
    "    sma: SMA,\n",
    "    kafka_consumer: KafkaConsumer\n",
    "):\n",
    "    \"\"\"Runs the SMA with Kafka Consumer.\n",
    "\n",
    "    Args:\n",
    "        sma (SMA): The SMA algorithm object.\n",
    "        kafka_consumer (KafkaConsumer): The message consumer of Kafka.\n",
    "    \"\"\"\n",
    "    for message in kafka_consumer:\n",
    "        sma.run(message)"
   ]
  },
  {
   "cell_type": "markdown",
   "id": "fcfa4f6e-89b5-4ec9-8df9-04784b329748",
   "metadata": {},
   "source": [
    "Then we can put the procedure into a Python process and start"
   ]
  },
  {
   "cell_type": "code",
   "execution_count": null,
   "id": "8f1cac12-38bb-44ad-83e5-6a3bb24eb632",
   "metadata": {},
   "outputs": [],
   "source": [
    "# Define the SMA process\n",
    "sma_process = Process(\n",
    "    target=run_sma_with_kafka,\n",
    "    args=(sma, consumer,),\n",
    "    daemon=True\n",
    ")"
   ]
  },
  {
   "cell_type": "code",
   "execution_count": null,
   "id": "1f1a5ba3-62aa-40ba-b7ab-c0c907f18870",
   "metadata": {},
   "outputs": [],
   "source": [
    "# Run the SMA thread\n",
    "sma_process.start()"
   ]
  },
  {
   "cell_type": "code",
   "execution_count": null,
   "id": "46e9e10c-2fdc-49f5-a5c0-a756ddaa60a4",
   "metadata": {},
   "outputs": [],
   "source": [
    "# Let the process run for a while, then terminate if necessary\n",
    "# If you want to paper trade continuously, you can disable this by commenting this section\n",
    "# time.sleep(600)\n",
    "# sma_process.terminate()"
   ]
  },
  {
   "cell_type": "markdown",
   "id": "ZjqpUPcSZLms",
   "metadata": {
    "id": "ZjqpUPcSZLms"
   },
   "source": [
    "## 3. Evaluation\n",
    "\n",
    "We can access the property `accounting` and others (such as `holdings`, `price_line`, and `sma_line` to assess the performance of the algorithm)\n",
    "\n",
    "We can define the Evaluation class to calculate the desired metrics"
   ]
  },
  {
   "cell_type": "code",
   "execution_count": null,
   "id": "KoWRc2b7-iRl",
   "metadata": {
    "id": "KoWRc2b7-iRl"
   },
   "outputs": [],
   "source": [
    "class Evaluator:\n",
    "    \"\"\"Evaluator class contains the possible evaluation of a trading algorithm\"\"\"\n",
    "\n",
    "    def __init__(\n",
    "        self,\n",
    "        date_list: List = [],\n",
    "        price_line: List = [],\n",
    "        sma_line: List = [],\n",
    "        nav: List = []\n",
    "    ):\n",
    "        self.data = pd.DataFrame.from_dict(\n",
    "            {\n",
    "                date: [price_line[i], sma_line[i], nav[i]]\n",
    "                for i, date in enumerate(date_list)\n",
    "            },\n",
    "            orient='index', columns=['Price', 'SMA', 'NAV']\n",
    "        )\n",
    "\n",
    "    def plot_price_sma(self):\n",
    "        \"\"\"Plots Price vs SMA\"\"\"\n",
    "        fig = plt.figure()\n",
    "        ax = fig.add_subplot(111)\n",
    "        self.data['Price'].plot(kind='line', figsize=(8, 4), title=f'Price vs. SMA', ax=ax)\n",
    "        self.data['SMA'].plot(kind='line', figsize=(8, 4), ax=ax, legend=True)\n",
    "        plt.gca().spines[['top', 'right']].set_visible(False)\n",
    "\n",
    "    def plot_nav(self):\n",
    "        \"\"\"Plots the NAV chart\"\"\"\n",
    "        self.data['NAV'].plot(kind='line', figsize=(8, 4), title='NAV Chart')\n",
    "        plt.gca().spines[['top', 'right']].set_visible(False)\n",
    "\n",
    "    def get_period_return(self):\n",
    "        \"\"\"Gets the period return\"\"\"\n",
    "        cur_asset_value = self.data['NAV'].iloc[-1]\n",
    "        init_asset_value = self.data['NAV'].iloc[0]\n",
    "\n",
    "        accum_return_rate = (cur_asset_value / init_asset_value - 1) * 100\n",
    "\n",
    "        return round(accum_return_rate, 2)\n",
    "\n",
    "    def get_mdd(self):\n",
    "        \"\"\"Gets the MDD\"\"\"\n",
    "        # For each day, calculate the peak of asset value since inception\n",
    "        self.data['peak'] = self.data.apply(lambda row: self.data.loc[:row.name, 'NAV'].max(), axis=1)\n",
    "        \n",
    "        # for each day, calculate asset drawdown\n",
    "        self.data['drawdown'] = self.data['NAV']/self.data['peak'] - 1\n",
    "        \n",
    "        # max drawdown is the most negative value\n",
    "        mdd = self.data['drawdown'].min() * 100\n",
    "\n",
    "        return round(mdd, 2)\n",
    "\n",
    "    def update_data_from_queue(self, data_queue: Queue):\n",
    "        \"\"\"Updates data from queue element.\n",
    "\n",
    "            Queue element format:\n",
    "            {\n",
    "                \"date\": <datetime string>,\n",
    "                \"price\": float,\n",
    "                \"sma\": float,\n",
    "                \"nav\": float\n",
    "            }\n",
    "        \"\"\"\n",
    "        while not q.empty():\n",
    "            data = q.get()\n",
    "            self.data.loc[data['date']] = {\n",
    "                'Price': data['price'],\n",
    "                'SMA': data['sma'],\n",
    "                'NAV': data['nav']\n",
    "            }"
   ]
  },
  {
   "cell_type": "code",
   "execution_count": null,
   "id": "dcdcdc8b-fbaf-41f0-8aa0-9c6d26598577",
   "metadata": {},
   "outputs": [],
   "source": [
    "# And we can initiate the evaluator\n",
    "evaluator = Evaluator()"
   ]
  },
  {
   "cell_type": "code",
   "execution_count": null,
   "id": "d1098804-20d5-4b13-8d35-6db009782a80",
   "metadata": {},
   "outputs": [],
   "source": [
    "evaluator.update_data_from_queue(q)"
   ]
  },
  {
   "cell_type": "markdown",
   "id": "202b8d84-94d3-4fe3-832e-e252b1837acd",
   "metadata": {},
   "source": [
    "### 3.1 Price and SMA\n",
    "We can plot the Price and SMA chart"
   ]
  },
  {
   "cell_type": "code",
   "execution_count": null,
   "id": "63ea49c8-f8b3-4ff6-8374-da5ab7a334c6",
   "metadata": {},
   "outputs": [],
   "source": [
    "evaluator.plot_price_sma()"
   ]
  },
  {
   "cell_type": "markdown",
   "id": "58011a3a-6548-4b31-b56b-db283b1e250b",
   "metadata": {},
   "source": [
    "### 3.2 The NAV Chart\n",
    "\n",
    "Then we can also plot the NAV Chart"
   ]
  },
  {
   "cell_type": "code",
   "execution_count": null,
   "id": "266e2091-af4e-43b8-9b3e-5ffc7a4d2580",
   "metadata": {},
   "outputs": [],
   "source": [
    "evaluator.plot_nav()"
   ]
  },
  {
   "cell_type": "markdown",
   "id": "f9cc55cf-1c5b-40b0-b3c5-758f0e825de7",
   "metadata": {},
   "source": [
    "### 3.3 The period return\n",
    "\n",
    "We can show the period return"
   ]
  },
  {
   "cell_type": "code",
   "execution_count": null,
   "id": "eefb33a4-bf88-4118-9ef3-f2dc1b79444b",
   "metadata": {},
   "outputs": [],
   "source": [
    "print(f'Period Return: {evaluator.get_period_return()}')"
   ]
  },
  {
   "cell_type": "markdown",
   "id": "53178921-c0b8-493f-a0a8-22dae0f2fb67",
   "metadata": {},
   "source": [
    "### 3.4 The MDD\n",
    "\n",
    "And we can also get the MDD"
   ]
  },
  {
   "cell_type": "code",
   "execution_count": null,
   "id": "71f4065b-acfc-4a2e-b225-4f403a24447f",
   "metadata": {},
   "outputs": [],
   "source": [
    "print(f'MDD: {evaluator.get_mdd()}')"
   ]
  }
 ],
 "metadata": {
  "colab": {
   "provenance": []
  },
  "kernelspec": {
   "display_name": "Python 3 (ipykernel)",
   "language": "python",
   "name": "python3"
  },
  "language_info": {
   "codemirror_mode": {
    "name": "ipython",
    "version": 3
   },
   "file_extension": ".py",
   "mimetype": "text/x-python",
   "name": "python",
   "nbconvert_exporter": "python",
   "pygments_lexer": "ipython3",
   "version": "3.12.6"
  }
 },
 "nbformat": 4,
 "nbformat_minor": 5
}
